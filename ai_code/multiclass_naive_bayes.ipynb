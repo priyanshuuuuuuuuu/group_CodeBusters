{
 "cells": [
  {
   "cell_type": "code",
   "execution_count": 49,
   "id": "d06861fe-9192-44d6-b4fc-b8897226c804",
   "metadata": {},
   "outputs": [],
   "source": [
    "import numpy as np\n",
    "import pandas as pd\n",
    "import json\n",
    "from pathlib import Path\n",
    "\n",
    "data=json.loads(Path(\"./queries.txt\").read_text())\n"
   ]
  },
  {
   "cell_type": "code",
   "execution_count": null,
   "id": "374d7543-4fde-4e70-86e4-bca28c78c99b",
   "metadata": {},
   "outputs": [],
   "source": [
    "print(data)"
   ]
  },
  {
   "cell_type": "code",
   "execution_count": 52,
   "id": "ddbe052f-9ca5-42b9-a13b-db14620a2135",
   "metadata": {},
   "outputs": [
    {
     "name": "stdout",
     "output_type": "stream",
     "text": [
      "(305, 671)\n",
      "(305, 1)\n"
     ]
    }
   ],
   "source": [
    "features=np.array(data[\"features\"], dtype=int)\n",
    "\n",
    "outputs=np.array(data[\"outputs\"], dtype=int).reshape(-1,1)\n",
    "\n",
    "train_features=features[:]\n",
    "train_outputs=outputs[:]\n",
    "# train_features=np.hstack((train_features, np.zeros((train_features.shape[0], 1)) ))\n",
    "for i in range(7):\n",
    "    train_features=np.vstack((train_features, np.zeros((1, train_features.shape[1]))))\n",
    "    train_features=np.vstack((train_features, np.ones((1, train_features.shape[1]))))\n",
    "    train_outputs=np.vstack((train_outputs,[[i],[i]]))\n",
    "\n",
    "train_features=train_features.astype(bool).astype(int)\n",
    "\n",
    "print(train_features.shape)\n",
    "print(train_outputs.shape)\n",
    "test_features=features[:]\n",
    "test_features=test_features.astype(bool).astype(int)\n",
    "test_outputs=outputs[:]\n",
    "\n",
    "m=train_features.shape[0]\n",
    "f=train_features.shape[1]"
   ]
  },
  {
   "cell_type": "code",
   "execution_count": 40,
   "id": "3f6ab9a4-da4c-459e-ab82-999e1607fd24",
   "metadata": {},
   "outputs": [],
   "source": [
    "#naive bayes algorithm\n",
    "\n",
    "pys=np.zeros((7))\n",
    "\n",
    "for out in train_outputs:\n",
    "    pys[out[0]]+=1\n",
    "\n",
    "\n",
    "pfeatures=np.zeros((7,train_features.shape[1]))\n",
    "\n",
    "for ind, feature in enumerate(train_features):\n",
    "\n",
    "    pfeatures[train_outputs[ind]]+=feature\n",
    "\n",
    "pfeatures/=pys.reshape(-1,1)\n",
    "pys/=m\n",
    "logpys=np.log(pys)\n",
    "logpfeatures=np.log(pfeatures)\n"
   ]
  },
  {
   "cell_type": "code",
   "execution_count": 67,
   "id": "341cea57-062b-4cad-8855-830dab0fc5f5",
   "metadata": {},
   "outputs": [],
   "source": [
    "word_mapper=data[\"word-mapper\"]\n",
    "value_mapper=data[\"value-mapper\"]\n",
    "\n",
    "map_value={}\n",
    "\n",
    "for key,value in value_mapper.items():\n",
    "    map_value[value]=key"
   ]
  },
  {
   "cell_type": "code",
   "execution_count": 117,
   "id": "acc66083-5c98-4b38-92f9-c7301cef8917",
   "metadata": {},
   "outputs": [
    {
     "name": "stdout",
     "output_type": "stream",
     "text": [
      "an official demanded bribe in exchange of official documents\n",
      "Anti-Bribery\n"
     ]
    }
   ],
   "source": [
    "#testing our algorithm\n",
    "\n",
    "def process(query):\n",
    "    query=query.lower()\n",
    "    new_query=[]\n",
    "    for word in query.split():\n",
    "        new_query.append(word if word[-1].isalpha() else word[:-1])\n",
    "    new_query=\" \".join(new_query)\n",
    "    return new_query\n",
    "    \n",
    "query=\"an official demanded bribe in exchange of official documents\"\n",
    "query=process(query)\n",
    "print(query)\n",
    "\n",
    "query_feature=np.zeros((1,train_features.shape[1]))\n",
    "\n",
    "for word in query.split():\n",
    "    query_feature[0][word_mapper.get(word, f-1)]+=1\n",
    "\n",
    "query_feature=np.tile(query_feature,(7,1))\n",
    "\n",
    "predict=pfeatures**query_feature*((1-pfeatures)**(1-query_feature))\n",
    "predict=np.log(predict).sum(axis=1).reshape(-1,1)+logpys.reshape(-1,1)\n",
    "\n",
    "# print(predict)\n",
    "prediction=np.argmax(predict)\n",
    "print(map_value[prediction])\n",
    "\n",
    "\n"
   ]
  },
  {
   "cell_type": "raw",
   "id": "a7f56137-a292-451c-a378-2e9df7f7d2b6",
   "metadata": {},
   "source": []
  },
  {
   "cell_type": "code",
   "execution_count": null,
   "id": "a23b3352-bcf7-47a0-8ec9-6585ab944d77",
   "metadata": {},
   "outputs": [],
   "source": []
  },
  {
   "cell_type": "code",
   "execution_count": null,
   "id": "f62a02a5-4950-4519-bff0-45869bd21e72",
   "metadata": {},
   "outputs": [],
   "source": []
  }
 ],
 "metadata": {
  "kernelspec": {
   "display_name": "Python 3 (ipykernel)",
   "language": "python",
   "name": "python3"
  },
  "language_info": {
   "codemirror_mode": {
    "name": "ipython",
    "version": 3
   },
   "file_extension": ".py",
   "mimetype": "text/x-python",
   "name": "python",
   "nbconvert_exporter": "python",
   "pygments_lexer": "ipython3",
   "version": "3.12.3"
  }
 },
 "nbformat": 4,
 "nbformat_minor": 5
}
